{
 "cells": [
  {
   "cell_type": "code",
   "execution_count": 184,
   "id": "a3c5a6e6",
   "metadata": {},
   "outputs": [],
   "source": [
    "import pandas as pd\n",
    "\n",
    "import numpy as np\n",
    "from collections import defaultdict\n",
    "from collections import Counter\n",
    "from sklearn.naive_bayes import GaussianNB\n",
    "%matplotlib inline"
   ]
  },
  {
   "cell_type": "code",
   "execution_count": 2,
   "id": "c77c0ff7",
   "metadata": {},
   "outputs": [],
   "source": [
    "import re\n",
    "import nltk\n",
    "from sklearn.datasets import load_files"
   ]
  },
  {
   "cell_type": "code",
   "execution_count": 3,
   "id": "5a39ce97",
   "metadata": {},
   "outputs": [],
   "source": [
    "train = pd.read_table('train.tsv')"
   ]
  },
  {
   "cell_type": "code",
   "execution_count": 4,
   "id": "097fe42f",
   "metadata": {},
   "outputs": [],
   "source": [
    "val = pd.read_table('val.tsv')"
   ]
  },
  {
   "cell_type": "code",
   "execution_count": 5,
   "id": "514f9f01",
   "metadata": {},
   "outputs": [],
   "source": [
    "test = pd.read_table('test.tsv')"
   ]
  },
  {
   "cell_type": "code",
   "execution_count": 6,
   "id": "78d18157",
   "metadata": {},
   "outputs": [],
   "source": [
    "X, y = train.libs, train.is_virus"
   ]
  },
  {
   "cell_type": "code",
   "execution_count": 7,
   "id": "d2fdd9eb",
   "metadata": {},
   "outputs": [],
   "source": [
    "X_val, y_val = val.libs, val.is_virus"
   ]
  },
  {
   "cell_type": "code",
   "execution_count": 134,
   "id": "c1bee90b",
   "metadata": {},
   "outputs": [],
   "source": [
    "X_test = test.libs"
   ]
  },
  {
   "cell_type": "code",
   "execution_count": 8,
   "id": "22dcc7a6",
   "metadata": {},
   "outputs": [],
   "source": [
    "documents = []\n",
    "\n",
    "from nltk.stem import WordNetLemmatizer\n",
    "\n",
    "stemmer = WordNetLemmatizer()\n",
    "\n",
    "for sen in range(0, len(X)):\n",
    "    # Remove all the special characters\n",
    "    document = re.sub(r'\\W', ' ', str(X[sen]))\n",
    "    \n",
    "    # remove all single characters\n",
    "    document = re.sub(r'\\s+[a-zA-Z]\\s+', ' ', document)\n",
    "    \n",
    "    # Remove single characters from the start\n",
    "    document = re.sub(r'\\^[a-zA-Z]\\s+', ' ', document) \n",
    "    \n",
    "    # Substituting multiple spaces with single space\n",
    "    document = re.sub(r'\\s+', ' ', document, flags=re.I)\n",
    "    \n",
    "    # Removing prefixed 'b'\n",
    "    document = re.sub(r'^b\\s+', '', document)\n",
    "    \n",
    "    # Converting to Lowercase\n",
    "    document = document.lower()\n",
    "    \n",
    "    # Lemmatization\n",
    "    document = document.split()\n",
    "\n",
    "    document = [stemmer.lemmatize(word) for word in document]\n",
    "    document = ' '.join(document)\n",
    "    \n",
    "    documents.append(document)"
   ]
  },
  {
   "cell_type": "code",
   "execution_count": 9,
   "id": "3a3d9114",
   "metadata": {},
   "outputs": [],
   "source": [
    "documents_val = []\n",
    "\n",
    "stemmer1 = WordNetLemmatizer()\n",
    "\n",
    "for sen in range(0, len(X_val)):\n",
    "    # Remove all the special characters\n",
    "    document = re.sub(r'\\W', ' ', str(X_val[sen]))\n",
    "    \n",
    "    # remove all single characters\n",
    "    document = re.sub(r'\\s+[a-zA-Z]\\s+', ' ', document)\n",
    "    \n",
    "    # Remove single characters from the start\n",
    "    document = re.sub(r'\\^[a-zA-Z]\\s+', ' ', document) \n",
    "    \n",
    "    # Substituting multiple spaces with single space\n",
    "    document = re.sub(r'\\s+', ' ', document, flags=re.I)\n",
    "    \n",
    "    # Removing prefixed 'b'\n",
    "    document = re.sub(r'^b\\s+', '', document)\n",
    "    \n",
    "    # Converting to Lowercase\n",
    "    document = document.lower()\n",
    "    \n",
    "    # Lemmatization\n",
    "    document = document.split()\n",
    "\n",
    "    document = [stemmer1.lemmatize(word) for word in document]\n",
    "    document = ' '.join(document)\n",
    "    \n",
    "    documents_val.append(document)"
   ]
  },
  {
   "cell_type": "code",
   "execution_count": 136,
   "id": "aad6773e",
   "metadata": {},
   "outputs": [],
   "source": [
    "documents_test = []\n",
    "\n",
    "stemmer2 = WordNetLemmatizer()\n",
    "\n",
    "for sen in range(0, len(X_test)):\n",
    "    # Remove all the special characters\n",
    "    document = re.sub(r'\\W', ' ', str(X_test[sen]))\n",
    "    \n",
    "    # remove all single characters\n",
    "    document = re.sub(r'\\s+[a-zA-Z]\\s+', ' ', document)\n",
    "    \n",
    "    # Remove single characters from the start\n",
    "    document = re.sub(r'\\^[a-zA-Z]\\s+', ' ', document) \n",
    "    \n",
    "    # Substituting multiple spaces with single space\n",
    "    document = re.sub(r'\\s+', ' ', document, flags=re.I)\n",
    "    \n",
    "    # Removing prefixed 'b'\n",
    "    document = re.sub(r'^b\\s+', '', document)\n",
    "    \n",
    "    # Converting to Lowercase\n",
    "    document = document.lower()\n",
    "    \n",
    "    # Lemmatization\n",
    "    document = document.split()\n",
    "\n",
    "    document = [stemmer2.lemmatize(word) for word in document]\n",
    "    document = ' '.join(document)\n",
    "    \n",
    "    documents_test.append(document)"
   ]
  },
  {
   "cell_type": "code",
   "execution_count": 10,
   "id": "f6d1501a",
   "metadata": {},
   "outputs": [
    {
     "data": {
      "text/plain": [
       "16290"
      ]
     },
     "execution_count": 10,
     "metadata": {},
     "output_type": "execute_result"
    }
   ],
   "source": [
    "len(documents)"
   ]
  },
  {
   "cell_type": "code",
   "execution_count": 11,
   "id": "02ef193c",
   "metadata": {},
   "outputs": [
    {
     "data": {
      "text/plain": [
       "1200"
      ]
     },
     "execution_count": 11,
     "metadata": {},
     "output_type": "execute_result"
    }
   ],
   "source": [
    "len(documents_val)"
   ]
  },
  {
   "cell_type": "code",
   "execution_count": 137,
   "id": "8f4332bd",
   "metadata": {},
   "outputs": [
    {
     "data": {
      "text/plain": [
       "1200"
      ]
     },
     "execution_count": 137,
     "metadata": {},
     "output_type": "execute_result"
    }
   ],
   "source": [
    "len(documents_test)"
   ]
  },
  {
   "cell_type": "code",
   "execution_count": 158,
   "id": "360c22fa",
   "metadata": {},
   "outputs": [],
   "source": [
    "from sklearn.feature_extraction.text import TfidfVectorizer\n",
    "tfidfconverter = TfidfVectorizer(max_features=440, max_df=0.7)\n",
    "X = tfidfconverter.fit_transform(documents).toarray()"
   ]
  },
  {
   "cell_type": "code",
   "execution_count": 159,
   "id": "d80ac02b",
   "metadata": {},
   "outputs": [
    {
     "data": {
      "text/plain": [
       "(16290, 440)"
      ]
     },
     "execution_count": 159,
     "metadata": {},
     "output_type": "execute_result"
    }
   ],
   "source": [
    "X.shape"
   ]
  },
  {
   "cell_type": "code",
   "execution_count": 160,
   "id": "10a3d996",
   "metadata": {},
   "outputs": [],
   "source": [
    "X_val = tfidfconverter.fit_transform(documents_val).toarray()"
   ]
  },
  {
   "cell_type": "code",
   "execution_count": 161,
   "id": "f4d9e6d7",
   "metadata": {},
   "outputs": [],
   "source": [
    "X_test = tfidfconverter.fit_transform(documents_test).toarray()"
   ]
  },
  {
   "cell_type": "code",
   "execution_count": 163,
   "id": "d5c4abd8",
   "metadata": {},
   "outputs": [
    {
     "data": {
      "text/plain": [
       "(1200, 440)"
      ]
     },
     "execution_count": 163,
     "metadata": {},
     "output_type": "execute_result"
    }
   ],
   "source": [
    "X_val.shape"
   ]
  },
  {
   "cell_type": "code",
   "execution_count": 164,
   "id": "d32d32e2",
   "metadata": {},
   "outputs": [
    {
     "data": {
      "text/plain": [
       "(1200, 440)"
      ]
     },
     "execution_count": 164,
     "metadata": {},
     "output_type": "execute_result"
    }
   ],
   "source": [
    "X_test.shape"
   ]
  },
  {
   "cell_type": "code",
   "execution_count": 16,
   "id": "774b0f12",
   "metadata": {},
   "outputs": [],
   "source": [
    "from sklearn.ensemble import RandomForestClassifier"
   ]
  },
  {
   "cell_type": "code",
   "execution_count": 85,
   "id": "18244b9f",
   "metadata": {},
   "outputs": [],
   "source": [
    "classifier = RandomForestClassifier(n_estimators=1000, random_state=0)"
   ]
  },
  {
   "cell_type": "code",
   "execution_count": 165,
   "id": "9af03345",
   "metadata": {},
   "outputs": [
    {
     "data": {
      "text/plain": [
       "RandomForestClassifier(n_estimators=1000, random_state=0)"
      ]
     },
     "execution_count": 165,
     "metadata": {},
     "output_type": "execute_result"
    }
   ],
   "source": [
    "classifier.fit(X, y)"
   ]
  },
  {
   "cell_type": "code",
   "execution_count": 87,
   "id": "f20d25bc",
   "metadata": {},
   "outputs": [],
   "source": [
    "val_predict = classifier.predict(X_val)"
   ]
  },
  {
   "cell_type": "code",
   "execution_count": 96,
   "id": "636c4563",
   "metadata": {},
   "outputs": [],
   "source": [
    "from sklearn.metrics import classification_report, confusion_matrix, accuracy_score, precision_score, recall_score, f1_score"
   ]
  },
  {
   "cell_type": "code",
   "execution_count": 20,
   "id": "e8bff8ce",
   "metadata": {},
   "outputs": [],
   "source": [
    "from sklearn.model_selection import RandomizedSearchCV, GridSearchCV"
   ]
  },
  {
   "cell_type": "code",
   "execution_count": 75,
   "id": "5d34bdf0",
   "metadata": {},
   "outputs": [],
   "source": [
    "parametrs = {\n",
    "    'n_estimators': [150],\n",
    "    'max_depth': [35],\n",
    "    'min_samples_leaf': [2],\n",
    "    'min_samples_split': [12]}"
   ]
  },
  {
   "cell_type": "code",
   "execution_count": 76,
   "id": "4ac27a6d",
   "metadata": {},
   "outputs": [],
   "source": [
    "grid_clf_rf = GridSearchCV(classifier, param_grid=parametrs, cv=5, n_jobs=3)"
   ]
  },
  {
   "cell_type": "code",
   "execution_count": 77,
   "id": "c595c8f6",
   "metadata": {},
   "outputs": [
    {
     "data": {
      "text/plain": [
       "GridSearchCV(cv=5, estimator=RandomForestClassifier(random_state=0), n_jobs=3,\n",
       "             param_grid={'max_depth': [35], 'min_samples_leaf': [2],\n",
       "                         'min_samples_split': [12], 'n_estimators': [150]})"
      ]
     },
     "execution_count": 77,
     "metadata": {},
     "output_type": "execute_result"
    }
   ],
   "source": [
    "grid_clf_rf.fit(X, y)"
   ]
  },
  {
   "cell_type": "code",
   "execution_count": 78,
   "id": "90991170",
   "metadata": {},
   "outputs": [
    {
     "data": {
      "text/plain": [
       "{'max_depth': 35,\n",
       " 'min_samples_leaf': 2,\n",
       " 'min_samples_split': 12,\n",
       " 'n_estimators': 150}"
      ]
     },
     "execution_count": 78,
     "metadata": {},
     "output_type": "execute_result"
    }
   ],
   "source": [
    "grid_clf_rf.best_params_"
   ]
  },
  {
   "cell_type": "code",
   "execution_count": 79,
   "id": "6f90cdfe",
   "metadata": {},
   "outputs": [],
   "source": [
    "best_grid_clf_rf = grid_clf_rf.best_estimator_"
   ]
  },
  {
   "cell_type": "code",
   "execution_count": 80,
   "id": "c27cfefa",
   "metadata": {},
   "outputs": [],
   "source": [
    "val_predict_grid = best_grid_clf_rf.predict(X_val)"
   ]
  },
  {
   "cell_type": "code",
   "execution_count": 81,
   "id": "f0d00337",
   "metadata": {},
   "outputs": [
    {
     "name": "stdout",
     "output_type": "stream",
     "text": [
      "[[201 199]\n",
      " [ 10 790]]\n",
      "              precision    recall  f1-score   support\n",
      "\n",
      "           0       0.95      0.50      0.66       400\n",
      "           1       0.80      0.99      0.88       800\n",
      "\n",
      "    accuracy                           0.83      1200\n",
      "   macro avg       0.88      0.74      0.77      1200\n",
      "weighted avg       0.85      0.83      0.81      1200\n",
      "\n",
      "0.8258333333333333\n"
     ]
    }
   ],
   "source": [
    "print(confusion_matrix(y_val,val_predict_grid))\n",
    "print(classification_report(y_val,val_predict_grid))\n",
    "print(accuracy_score(y_val, val_predict_grid))"
   ]
  },
  {
   "cell_type": "code",
   "execution_count": 144,
   "id": "1f1920ac",
   "metadata": {},
   "outputs": [],
   "source": [
    "def perf_measure(y_actual, y_hat):\n",
    "    TP = 0\n",
    "    FP = 0\n",
    "    TN = 0\n",
    "    FN = 0\n",
    "\n",
    "    for i in range(len(y_hat)): \n",
    "        if y_actual[i]==y_hat[i]==1:\n",
    "            TP += 1\n",
    "        if y_hat[i]==1 and y_actual[i]!=y_hat[i]:\n",
    "            FP += 1\n",
    "        if y_actual[i]==y_hat[i]==0:\n",
    "            TN += 1\n",
    "        if y_hat[i]==0 and y_actual[i]!=y_hat[i]:\n",
    "            FN += 1\n",
    "    with open('validation.txt', 'w') as f:\n",
    "        f.write('True positive: ' + str(TP) + '\\n')\n",
    "        f.write('False positive: ' + str(FP) + '\\n')\n",
    "        f.write('False negative: ' + str(FN) + '\\n')\n",
    "        f.write('True negative: ' + str(TN) + '\\n')\n",
    "        f.write('Accuracy: ' + str(accuracy_score(y_val, val_predict_grid)) + '\\n')\n",
    "        f.write('Precision: ' + str(precision_score(y_val, val_predict_grid)) + '\\n')\n",
    "        f.write('Recall: ' + str(recall_score(y_val, val_predict_grid)) + '\\n')\n",
    "        f.write('F1: ' + str(f1_score(y_val, val_predict_grid)) + '\\n')"
   ]
  },
  {
   "cell_type": "code",
   "execution_count": 145,
   "id": "fceeef88",
   "metadata": {},
   "outputs": [],
   "source": [
    "perf_measure(y_val, val_predict_grid)"
   ]
  },
  {
   "cell_type": "code",
   "execution_count": 140,
   "id": "236786b5",
   "metadata": {},
   "outputs": [],
   "source": [
    "test_predict_grid = best_grid_clf_rf.predict(X_test)"
   ]
  },
  {
   "cell_type": "code",
   "execution_count": 141,
   "id": "766a5929",
   "metadata": {},
   "outputs": [
    {
     "data": {
      "text/plain": [
       "array([1, 0, 1, ..., 1, 1, 1], dtype=int64)"
      ]
     },
     "execution_count": 141,
     "metadata": {},
     "output_type": "execute_result"
    }
   ],
   "source": [
    "test_predict_grid"
   ]
  },
  {
   "cell_type": "code",
   "execution_count": 143,
   "id": "de5000be",
   "metadata": {},
   "outputs": [],
   "source": [
    "with open('prediction.txt', 'w') as f:\n",
    "    f.write('prediction\\n')\n",
    "    for i in test_predict_grid:\n",
    "        f.write(str(i) + '\\n')"
   ]
  },
  {
   "cell_type": "code",
   "execution_count": 178,
   "id": "01356010",
   "metadata": {},
   "outputs": [],
   "source": [
    "# bag of words\n",
    "from sklearn.feature_extraction.text import CountVectorizer\n",
    "vectorizer = CountVectorizer(max_features=440, max_df=0.9)\n",
    "X_bag = vectorizer.fit_transform(documents).toarray()"
   ]
  },
  {
   "cell_type": "code",
   "execution_count": 179,
   "id": "5370ff00",
   "metadata": {},
   "outputs": [],
   "source": [
    "grid_clf_rf_bag = GridSearchCV(classifier, param_grid=parametrs, cv=5, n_jobs=3)"
   ]
  },
  {
   "cell_type": "code",
   "execution_count": 180,
   "id": "79a17d1e",
   "metadata": {},
   "outputs": [
    {
     "data": {
      "text/plain": [
       "GridSearchCV(cv=5,\n",
       "             estimator=RandomForestClassifier(n_estimators=1000,\n",
       "                                              random_state=0),\n",
       "             n_jobs=3,\n",
       "             param_grid={'max_depth': [35], 'min_samples_leaf': [2],\n",
       "                         'min_samples_split': [12], 'n_estimators': [150]})"
      ]
     },
     "execution_count": 180,
     "metadata": {},
     "output_type": "execute_result"
    }
   ],
   "source": [
    "grid_clf_rf_bag.fit(X_bag, y)"
   ]
  },
  {
   "cell_type": "code",
   "execution_count": 181,
   "id": "aa74ec58",
   "metadata": {},
   "outputs": [],
   "source": [
    "best_grid_clf_rf_bag = grid_clf_rf_bag.best_estimator_"
   ]
  },
  {
   "cell_type": "code",
   "execution_count": 182,
   "id": "3f5132b9",
   "metadata": {},
   "outputs": [],
   "source": [
    "val_predict_grid_bag = best_grid_clf_rf_bag.predict(X_val)"
   ]
  },
  {
   "cell_type": "code",
   "execution_count": 183,
   "id": "61a0061d",
   "metadata": {},
   "outputs": [
    {
     "name": "stdout",
     "output_type": "stream",
     "text": [
      "[[ 20 380]\n",
      " [ 57 743]]\n",
      "              precision    recall  f1-score   support\n",
      "\n",
      "           0       0.26      0.05      0.08       400\n",
      "           1       0.66      0.93      0.77       800\n",
      "\n",
      "    accuracy                           0.64      1200\n",
      "   macro avg       0.46      0.49      0.43      1200\n",
      "weighted avg       0.53      0.64      0.54      1200\n",
      "\n",
      "0.6358333333333334\n"
     ]
    }
   ],
   "source": [
    "print(confusion_matrix(y_val,val_predict_grid_bag))\n",
    "print(classification_report(y_val,val_predict_grid_bag))\n",
    "print(accuracy_score(y_val, val_predict_grid_bag))"
   ]
  },
  {
   "cell_type": "code",
   "execution_count": 185,
   "id": "2d81f1d5",
   "metadata": {},
   "outputs": [],
   "source": [
    "# naive Bayes\n",
    "bayes_clf = GaussianNB()"
   ]
  },
  {
   "cell_type": "code",
   "execution_count": 186,
   "id": "a49b08ab",
   "metadata": {},
   "outputs": [
    {
     "data": {
      "text/plain": [
       "GaussianNB()"
      ]
     },
     "execution_count": 186,
     "metadata": {},
     "output_type": "execute_result"
    }
   ],
   "source": [
    "bayes_clf.fit(X, y)"
   ]
  },
  {
   "cell_type": "code",
   "execution_count": 187,
   "id": "28b7d136",
   "metadata": {},
   "outputs": [],
   "source": [
    "val_predict_bayes = bayes_clf.predict(X_val)"
   ]
  },
  {
   "cell_type": "code",
   "execution_count": 188,
   "id": "15eabc6d",
   "metadata": {},
   "outputs": [
    {
     "name": "stdout",
     "output_type": "stream",
     "text": [
      "[[382  18]\n",
      " [623 177]]\n",
      "              precision    recall  f1-score   support\n",
      "\n",
      "           0       0.38      0.95      0.54       400\n",
      "           1       0.91      0.22      0.36       800\n",
      "\n",
      "    accuracy                           0.47      1200\n",
      "   macro avg       0.64      0.59      0.45      1200\n",
      "weighted avg       0.73      0.47      0.42      1200\n",
      "\n",
      "0.4658333333333333\n"
     ]
    }
   ],
   "source": [
    "print(confusion_matrix(y_val,val_predict_bayes))\n",
    "print(classification_report(y_val,val_predict_bayes))\n",
    "print(accuracy_score(y_val, val_predict_bayes))"
   ]
  },
  {
   "cell_type": "code",
   "execution_count": null,
   "id": "af552b62",
   "metadata": {},
   "outputs": [],
   "source": []
  }
 ],
 "metadata": {
  "kernelspec": {
   "display_name": "Python 3",
   "language": "python",
   "name": "python3"
  },
  "language_info": {
   "codemirror_mode": {
    "name": "ipython",
    "version": 3
   },
   "file_extension": ".py",
   "mimetype": "text/x-python",
   "name": "python",
   "nbconvert_exporter": "python",
   "pygments_lexer": "ipython3",
   "version": "3.8.8"
  }
 },
 "nbformat": 4,
 "nbformat_minor": 5
}
